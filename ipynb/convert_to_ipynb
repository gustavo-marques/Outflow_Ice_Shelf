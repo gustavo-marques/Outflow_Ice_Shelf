1) ipython make_nb.py quiet.py 
2) jupyter nbconvert --to notebook --execute quiet.py.ipynb

